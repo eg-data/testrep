{
 "cells": [
  {
   "cell_type": "markdown",
   "id": "034ffbb6",
   "metadata": {},
   "source": [
    "# \"My Jupyter Notebook on IBM Watson Studio\""
   ]
  },
  {
   "cell_type": "markdown",
   "id": "5219d624",
   "metadata": {},
   "source": [
    "<b>Ebru Guney </b>  \n",
    "Data Scientist"
   ]
  },
  {
   "cell_type": "markdown",
   "id": "52d1e453",
   "metadata": {},
   "source": [
    "<i>\"I am interested in data science because it is fun\"</i>"
   ]
  },
  {
   "cell_type": "markdown",
   "id": "35810a2c",
   "metadata": {},
   "source": [
    "### The following code test addition"
   ]
  },
  {
   "cell_type": "code",
   "execution_count": 2,
   "id": "754976d7",
   "metadata": {},
   "outputs": [
    {
     "name": "stdout",
     "output_type": "stream",
     "text": [
      "3\n"
     ]
    }
   ],
   "source": [
    "a=1;\n",
    "b=2;\n",
    "print(a+b);"
   ]
  },
  {
   "cell_type": "markdown",
   "id": "ff19995f",
   "metadata": {},
   "source": [
    "1)one  \n",
    "2)two  \n",
    "3)three"
   ]
  }
 ],
 "metadata": {
  "kernelspec": {
   "display_name": "Python 3",
   "language": "python",
   "name": "python3"
  },
  "language_info": {
   "codemirror_mode": {
    "name": "ipython",
    "version": 3
   },
   "file_extension": ".py",
   "mimetype": "text/x-python",
   "name": "python",
   "nbconvert_exporter": "python",
   "pygments_lexer": "ipython3",
   "version": "3.8.8"
  }
 },
 "nbformat": 4,
 "nbformat_minor": 5
}
